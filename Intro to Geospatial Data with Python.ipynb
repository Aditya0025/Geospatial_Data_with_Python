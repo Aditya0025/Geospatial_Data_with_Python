{
 "cells": [
  {
   "cell_type": "markdown",
   "metadata": {
    "ExecuteTime": {
     "end_time": "2017-01-19T12:42:19.676901",
     "start_time": "2017-01-19T12:42:19.665880"
    }
   },
   "source": [
    "# Intro to Geospatial Data using Python\n",
    "\n",
    "## Disclaimer\n",
    "* Not a GIS expert, just someone with the drive to self learn.\n",
    "* Going to be talking mostly about Shape (.shp) files but other formats exist (geojson, raster, etc)\n",
    "* Using Python 3.5, no guarantees everything works on 2.7\n",
    "\n",
    "## Background\n",
    "* What is GeoSpatial Data?\n",
    "* Types of GeoSpatial Data\n",
    "* What kinds of GeoSpatial Data is available?\n",
    "* Where to get data?\n",
    "\n",
    "## Technical\n",
    "* Getting Set Up\n",
    "* Reading in Data\n",
    "* Exploring Data\n",
    "    * Fields\n",
    "    * Profiling\n",
    "    * Visualization\n",
    "* Filtering\n",
    "    * Data Attributes\n",
    "    * Geodesic Features\n",
    "* Geodesic transformations\n",
    "    * Units of Measure\n",
    "    * Projections\n",
    "* Geodesic Calculations\n",
    "    * Centroid\n",
    "    * Area\n",
    "    * Perimeter\n",
    "    * Distance between points\n",
    "* Joins/merges\n",
    "    * Joining tabular data\n",
    "    * Joining on geodesic features\n",
    "* Creating new data\n",
    "    * New Fields\n",
    "    * New Shapes\n",
    "* Writing Data"
   ]
  },
  {
   "cell_type": "markdown",
   "metadata": {},
   "source": [
    "## What is GeoSpatial Data?\n",
    "The word geospatial is used to indicate that data that has a geographic component to it.  This means that the records in a dataset have locational information tied to them such as geographic data in the form of coordinates, address, city, or ZIP code. GIS data is a form of geospatial data.  Other geospatial data can originate from GPS data, satellite imagery, and geotagging. [1]\n",
    "\n",
    "![](./img/gislayers.jpg)\n",
    "\n",
    "[1]: https://www.gislounge.com/difference-gis-geospatial/"
   ]
  },
  {
   "cell_type": "markdown",
   "metadata": {},
   "source": [
    "## Types of Geospatial Data"
   ]
  },
  {
   "cell_type": "markdown",
   "metadata": {},
   "source": [
    "## Vector/Polygon Data\n",
    "* A representation of the world using points, lines, and polygons. \n",
    "* Vector models are useful for storing data that has discrete boundaries, such as country borders, land parcels, and streets.\n",
    "* Common formats are Shape Files, GeoJSON, KML (Keyhole Markup Language)\n",
    "![](./img/GIS_Shape.jpg)"
   ]
  },
  {
   "cell_type": "markdown",
   "metadata": {},
   "source": [
    "## Raster Data\n",
    "* Rasters are digital aerial photographs, imagery from satellites, digital pictures, or even scanned maps\n",
    "* Common formats are .JPG, .TIF, .GIF or similar format\n",
    "![](./img/GIS_Raster.jpg)"
   ]
  },
  {
   "cell_type": "markdown",
   "metadata": {},
   "source": [
    "## Tablular Files\n",
    "* Numeric data is statistical data which includes a geographical component \n",
    "* Joined with vector files so the data can be queried and displayed as a layer on a map in a GIS. \n",
    "* The most common type of numeric data is demographic data from the US Census.\n",
    "* Unique Identifiers (Hydrology Number, State, Metropolitan Statistical Area ID, Lat/Long, etc)\n",
    "![](./img/GIS_tabular.jpg)"
   ]
  },
  {
   "cell_type": "markdown",
   "metadata": {
    "ExecuteTime": {
     "end_time": "2017-01-19T09:49:28.537005",
     "start_time": "2017-01-19T09:49:28.533503"
    }
   },
   "source": [
    "## What kinds of GeoSpatial Data is available?\n",
    "![](./img/GIS_Categories.PNG)\n",
    "### Government\n",
    "* Local (MetCouncil, Minneapolis School District)\n",
    "* State (DNR, MN PCA, Hennepin County)\n",
    "* Federal (Census Bureau, NASA)\n",
    "\n",
    "### Private\n",
    "* Xcel Engery, Centerpoint, Google"
   ]
  },
  {
   "cell_type": "markdown",
   "metadata": {
    "ExecuteTime": {
     "end_time": "2017-01-19T09:50:06.244765",
     "start_time": "2017-01-19T09:50:06.242263"
    }
   },
   "source": [
    "## Where can I get Minnesota Geospatial Data?\n",
    "[![MN GeoSpatial Commons](./img/mn_geospatial.PNG)](https://gisdata.mn.gov/)"
   ]
  },
  {
   "cell_type": "markdown",
   "metadata": {},
   "source": [
    "# Getting Set Up"
   ]
  },
  {
   "cell_type": "markdown",
   "metadata": {},
   "source": [
    "## Start with Anaconda 3.5\n",
    "Anaconda is the de facto industry standard for Python Scientific Computing. Without it users are left to manage dependencies, find and compile low level C libraries and generally in for a huge headache. Added bonus is that you don't need administrator privledges to install if you install only for the local user.\n",
    "\n",
    "### Download Here\n",
    "[![Download Here](./img/Anaconda_Download.PNG)](https://www.continuum.io/downloads)"
   ]
  },
  {
   "cell_type": "markdown",
   "metadata": {},
   "source": [
    "![conda-forge](./img/Conda_Forge.PNG)\n",
    "\n",
    "## Install Additional Libraries\n",
    "\n",
    "Conda is a packaging tool and installer that aims to do more than what pip does; handle library dependencies outside of the Python packages as well as the Python packages themselves.\n",
    "\n",
    "## What is Conda Forge?\n",
    "\n",
    "conda-forge is a github organization containing repositories of conda recipes. Each repository automatically builds its own recipe in a clean and repeatable way on Windows, Linux and OSX. \n",
    "\n",
    "Extremely valuable as you don't have to find and compile dependencies (which isn't fun on Linux/OSX and is a *NIGHTMARE* on Windows).\n",
    "\n",
    "**Enable conda-forge repositories by running the cell below:**"
   ]
  },
  {
   "cell_type": "code",
   "execution_count": null,
   "metadata": {
    "ExecuteTime": {
     "end_time": "2017-01-19T10:43:10.460418",
     "start_time": "2017-01-19T10:43:07.754580"
    },
    "collapsed": false
   },
   "outputs": [],
   "source": [
    "! conda config --add channels conda-forge"
   ]
  },
  {
   "cell_type": "markdown",
   "metadata": {
    "ExecuteTime": {
     "end_time": "2017-01-19T10:51:48.195559",
     "start_time": "2017-01-19T10:51:48.170043"
    }
   },
   "source": [
    "## Python Geospatial Libraries Covered in Notebook\n",
    "\n",
    "* [geopandas][] - Working with spatial data is fun again!\n",
    "* [shapely][] - For geometry handling\n",
    "* [rtree][] - For efficiently querying spatial data\n",
    "* [pyshp][] - For reading and writing shapefiles (in _pure_ Python)\n",
    "* [pyproj][] - For conversions between projections\n",
    "* [fiona][] - For making it _easy_ to read/write geospatial data formats\n",
    "* [ogr/gdal][] - For reading, writing, and transforming geospatial data formats\n",
    "* [geopy][] - For geolocating and things like that\n",
    "* [pysal][] -  Spatial econometrics, exploratory spatial and spatio-temporal data analysis, spatial clustering (and more)\n",
    "* [descartes][] - For plotting geometries in matplotlib\n",
    "\n",
    "[pandas]: http://pandas.pydata.org/\n",
    "[geopandas]: https://github.com/kjordahl/geopandas\n",
    "[shapely]: https://pypi.python.org/pypi/Shapely\n",
    "[rtree]: http://toblerity.github.io/rtree/\n",
    "[geopy]: https://code.google.com/p/geopy/\n",
    "[ogr/gdal]: https://pypi.python.org/pypi/GDAL/\n",
    "[fiona]: http://toblerity.github.io/fiona/\n",
    "[pysal]: http://pysal.org\n",
    "[pyproj]: https://code.google.com/p/pyproj/\n",
    "[pyshp]: https://code.google.com/p/pyshp/\n",
    "[descartes]: https://pypi.python.org/pypi/descartes\n",
    "\n",
    "### [Exhaustive List Here](https://github.com/SpatialPython/spatial_python/blob/master/packages.md)"
   ]
  },
  {
   "cell_type": "markdown",
   "metadata": {},
   "source": [
    "### Install packages by running the cell below\n",
    "* Type 'y' in results cell to proceed with install"
   ]
  },
  {
   "cell_type": "code",
   "execution_count": null,
   "metadata": {
    "ExecuteTime": {
     "end_time": "2017-01-19T11:03:37.403263",
     "start_time": "2017-01-19T11:01:27.588708"
    },
    "collapsed": false,
    "scrolled": true
   },
   "outputs": [],
   "source": [
    "! conda install rtree\n",
    "! conda install gdal\n",
    "! conda install shapely\n",
    "! conda install pyshp\n",
    "! conda install pyproj\n",
    "! conda install fiona\n",
    "! conda install geopy\n",
    "! conda install pysal\n",
    "! conda install descartes\n",
    "! conda install geopandas"
   ]
  },
  {
   "cell_type": "markdown",
   "metadata": {},
   "source": [
    "## Install Additional GitHub Packages\n",
    "Conda should be your go-to installer but some of the really specific libraries you need to install with Pip\n",
    "\n",
    "* [pandas-profiling][] - Generates profile reports from a pandas DataFrame\n",
    "* [geoplotlib][] - For visualizing geographical data and making maps\n",
    "* [missingno][] - Provides a small toolset of flexible and easy-to-use missing data visualizations \n",
    "\n",
    "[pandas-profiling]: https://github.com/JosPolfliet/pandas-profiling\n",
    "[geoplotlib]: https://github.com/andrea-cuttone/geoplotlib\n",
    "[missingno]: https://github.com/ResidentMario/missingno\n",
    "\n"
   ]
  },
  {
   "cell_type": "markdown",
   "metadata": {
    "ExecuteTime": {
     "end_time": "2017-01-19T11:23:57.048240",
     "start_time": "2017-01-19T11:23:57.041215"
    }
   },
   "source": [
    "### Install packages by running the cell below\n",
    "* Type 'y' in results cell to proceed with install"
   ]
  },
  {
   "cell_type": "code",
   "execution_count": null,
   "metadata": {
    "ExecuteTime": {
     "end_time": "2017-01-19T11:15:06.581395",
     "start_time": "2017-01-19T11:14:41.976965"
    },
    "collapsed": false,
    "scrolled": true
   },
   "outputs": [],
   "source": [
    "! pip install https://github.com/JosPolfliet/pandas-profiling/archive/master.zip\n",
    "! pip install https://github.com/andrea-cuttone/geoplotlib/archive/master.zip\n",
    "! pip install https://github.com/ResidentMario/missingno/archive/master.zip"
   ]
  },
  {
   "cell_type": "code",
   "execution_count": null,
   "metadata": {
    "collapsed": true
   },
   "outputs": [],
   "source": [
    "%matplotlib inline\n",
    "import seaborn as sns\n",
    "import pandas as pd\n",
    "import numpy as np\n",
    "import matplotlib.pyplot as plt"
   ]
  },
  {
   "cell_type": "markdown",
   "metadata": {
    "ExecuteTime": {
     "end_time": "2017-01-19T16:07:14.566043",
     "start_time": "2017-01-19T16:07:14.208632"
    }
   },
   "source": [
    "# Data Set\n",
    "## MetCouncil Generalized Land Use 2010\n",
    "![](./img/metcouncil_landuse.jpg)"
   ]
  },
  {
   "cell_type": "markdown",
   "metadata": {
    "ExecuteTime": {
     "end_time": "2017-01-19T16:13:53.151312",
     "start_time": "2017-01-19T16:13:53.147810"
    }
   },
   "source": [
    "## Extract Data from zipfile"
   ]
  },
  {
   "cell_type": "code",
   "execution_count": 6,
   "metadata": {
    "ExecuteTime": {
     "end_time": "2017-01-19T16:13:41.475376",
     "start_time": "2017-01-19T16:13:40.498923"
    },
    "collapsed": true
   },
   "outputs": [],
   "source": [
    "import zipfile\n",
    "\n",
    "file = './data/2010_landuse.zip'\n",
    "\n",
    "z = zipfile.ZipFile(file)\n",
    "for name in z.namelist():\n",
    "    z.extract(name,\"./data/\")"
   ]
  },
  {
   "cell_type": "markdown",
   "metadata": {
    "ExecuteTime": {
     "end_time": "2017-01-19T16:15:22.364231",
     "start_time": "2017-01-19T16:15:22.361231"
    }
   },
   "source": [
    "## [Review Meta Data](./data/metadata/metadata.html)"
   ]
  },
  {
   "cell_type": "markdown",
   "metadata": {},
   "source": [
    "# Reading in Data\n",
    "\n",
    "geopandas can read almost any vector-based spatial data format including ESRI shapefile, GeoJSON files and more"
   ]
  },
  {
   "cell_type": "code",
   "execution_count": 20,
   "metadata": {
    "ExecuteTime": {
     "end_time": "2017-01-19T16:31:52.983981",
     "start_time": "2017-01-19T16:31:32.775644"
    },
    "collapsed": false
   },
   "outputs": [
    {
     "data": {
      "text/html": [
       "<div>\n",
       "<table border=\"1\" class=\"dataframe\">\n",
       "  <thead>\n",
       "    <tr style=\"text-align: right;\">\n",
       "      <th></th>\n",
       "      <th>ACRES</th>\n",
       "      <th>LUSE2010</th>\n",
       "      <th>LUSE_DESC</th>\n",
       "      <th>Shape_Area</th>\n",
       "      <th>Shape_Leng</th>\n",
       "      <th>geometry</th>\n",
       "    </tr>\n",
       "  </thead>\n",
       "  <tbody>\n",
       "    <tr>\n",
       "      <th>0</th>\n",
       "      <td>59548.391131</td>\n",
       "      <td>100</td>\n",
       "      <td>Agricultural</td>\n",
       "      <td>2.409848e+08</td>\n",
       "      <td>1.013022e+06</td>\n",
       "      <td>POLYGON ((477085.9844 4934343.3261, 477085.546...</td>\n",
       "    </tr>\n",
       "    <tr>\n",
       "      <th>1</th>\n",
       "      <td>53520.904726</td>\n",
       "      <td>100</td>\n",
       "      <td>Agricultural</td>\n",
       "      <td>2.165923e+08</td>\n",
       "      <td>6.428228e+05</td>\n",
       "      <td>POLYGON ((500440.9953 4945547.944, 500615.518 ...</td>\n",
       "    </tr>\n",
       "    <tr>\n",
       "      <th>2</th>\n",
       "      <td>47454.260908</td>\n",
       "      <td>100</td>\n",
       "      <td>Agricultural</td>\n",
       "      <td>1.920413e+08</td>\n",
       "      <td>1.167357e+06</td>\n",
       "      <td>POLYGON ((429036.0224 4969715.8797, 429036.023...</td>\n",
       "    </tr>\n",
       "    <tr>\n",
       "      <th>3</th>\n",
       "      <td>44440.129659</td>\n",
       "      <td>100</td>\n",
       "      <td>Agricultural</td>\n",
       "      <td>1.798435e+08</td>\n",
       "      <td>7.487410e+05</td>\n",
       "      <td>POLYGON ((443065.6713 4949585.854, 443067.5833...</td>\n",
       "    </tr>\n",
       "    <tr>\n",
       "      <th>4</th>\n",
       "      <td>36431.867337</td>\n",
       "      <td>100</td>\n",
       "      <td>Agricultural</td>\n",
       "      <td>1.474351e+08</td>\n",
       "      <td>6.333393e+05</td>\n",
       "      <td>POLYGON ((449983.4234 4944678.9954, 449984.117...</td>\n",
       "    </tr>\n",
       "  </tbody>\n",
       "</table>\n",
       "</div>"
      ],
      "text/plain": [
       "          ACRES LUSE2010     LUSE_DESC    Shape_Area    Shape_Leng  \\\n",
       "0  59548.391131      100  Agricultural  2.409848e+08  1.013022e+06   \n",
       "1  53520.904726      100  Agricultural  2.165923e+08  6.428228e+05   \n",
       "2  47454.260908      100  Agricultural  1.920413e+08  1.167357e+06   \n",
       "3  44440.129659      100  Agricultural  1.798435e+08  7.487410e+05   \n",
       "4  36431.867337      100  Agricultural  1.474351e+08  6.333393e+05   \n",
       "\n",
       "                                            geometry  \n",
       "0  POLYGON ((477085.9844 4934343.3261, 477085.546...  \n",
       "1  POLYGON ((500440.9953 4945547.944, 500615.518 ...  \n",
       "2  POLYGON ((429036.0224 4969715.8797, 429036.023...  \n",
       "3  POLYGON ((443065.6713 4949585.854, 443067.5833...  \n",
       "4  POLYGON ((449983.4234 4944678.9954, 449984.117...  "
      ]
     },
     "execution_count": 20,
     "metadata": {},
     "output_type": "execute_result"
    }
   ],
   "source": [
    "import geopandas as gpd\n",
    "\n",
    "shp_file = './data/GeneralizedLandUse2010.dbf'\n",
    "\n",
    "gdf = gpd.read_file(shp_file)\n",
    "\n",
    "gdf.head()"
   ]
  },
  {
   "cell_type": "code",
   "execution_count": 22,
   "metadata": {
    "ExecuteTime": {
     "end_time": "2017-01-19T16:34:03.880274",
     "start_time": "2017-01-19T16:34:03.844225"
    },
    "collapsed": false
   },
   "outputs": [
    {
     "name": "stdout",
     "output_type": "stream",
     "text": [
      "<class 'geopandas.geodataframe.GeoDataFrame'>\n",
      "RangeIndex: 86586 entries, 0 to 86585\n",
      "Data columns (total 6 columns):\n",
      "ACRES         86586 non-null float64\n",
      "LUSE2010      86586 non-null object\n",
      "LUSE_DESC     86586 non-null object\n",
      "Shape_Area    86586 non-null float64\n",
      "Shape_Leng    86586 non-null float64\n",
      "geometry      86586 non-null object\n",
      "dtypes: float64(3), object(3)\n",
      "memory usage: 4.0+ MB\n"
     ]
    }
   ],
   "source": [
    "gdf.info()"
   ]
  },
  {
   "cell_type": "markdown",
   "metadata": {},
   "source": [
    "# Exploring Data"
   ]
  },
  {
   "cell_type": "markdown",
   "metadata": {},
   "source": [
    "# Fields"
   ]
  },
  {
   "cell_type": "markdown",
   "metadata": {},
   "source": [
    "# Profiling"
   ]
  },
  {
   "cell_type": "markdown",
   "metadata": {},
   "source": [
    "# Visualization"
   ]
  },
  {
   "cell_type": "code",
   "execution_count": null,
   "metadata": {
    "collapsed": true
   },
   "outputs": [],
   "source": [
    "import matplotlib\n",
    "import matplotlib.pyplot as plt\n",
    "%matplotlib inline  \n",
    "\n",
    "gdf.plot()"
   ]
  },
  {
   "cell_type": "code",
   "execution_count": 25,
   "metadata": {
    "ExecuteTime": {
     "end_time": "2017-01-19T17:50:02.910318",
     "start_time": "2017-01-19T17:50:02.164658"
    },
    "collapsed": false
   },
   "outputs": [
    {
     "data": {
      "image/png": "[encoded data removed]",
      "text/plain": [
       "<matplotlib.figure.Figure at 0x2c3a0c7aba8>"
      ]
     },
     "metadata": {},
     "output_type": "display_data"
    }
   ],
   "source": [
    "import missingno as msno\n",
    "\n",
    "msno.matrix(gdf)"
   ]
  },
  {
   "cell_type": "code",
   "execution_count": null,
   "metadata": {
    "collapsed": true
   },
   "outputs": [],
   "source": [
    "msno.geoplot(collisions.sample(1000), x='LONGITUDE', y='LATITUDE', by='BOROUGH', geometry=geom)"
   ]
  },
  {
   "cell_type": "markdown",
   "metadata": {},
   "source": [
    "# Filtering"
   ]
  },
  {
   "cell_type": "markdown",
   "metadata": {},
   "source": [
    "# Filtering on Data Attributes"
   ]
  },
  {
   "cell_type": "markdown",
   "metadata": {},
   "source": [
    "# Filtering on Geodesic Features"
   ]
  },
  {
   "cell_type": "markdown",
   "metadata": {},
   "source": [
    "# Geospatial Transformations"
   ]
  },
  {
   "cell_type": "markdown",
   "metadata": {},
   "source": [
    "# Transforming Units of Measure"
   ]
  },
  {
   "cell_type": "markdown",
   "metadata": {},
   "source": [
    "# Transforming Projections"
   ]
  },
  {
   "cell_type": "markdown",
   "metadata": {},
   "source": [
    "# Geospatial Calculations"
   ]
  },
  {
   "cell_type": "markdown",
   "metadata": {},
   "source": [
    "# Calculate Centroid"
   ]
  },
  {
   "cell_type": "markdown",
   "metadata": {},
   "source": [
    "# Calculate Area"
   ]
  },
  {
   "cell_type": "markdown",
   "metadata": {},
   "source": [
    "# Calculate Perimeter"
   ]
  },
  {
   "cell_type": "markdown",
   "metadata": {},
   "source": [
    "# Calculate Distance between Points"
   ]
  },
  {
   "cell_type": "markdown",
   "metadata": {},
   "source": [
    "# Joins / Merges"
   ]
  },
  {
   "cell_type": "markdown",
   "metadata": {},
   "source": [
    "# Joining Tablular Data to Geospatial Data"
   ]
  },
  {
   "cell_type": "markdown",
   "metadata": {},
   "source": [
    "# Joining Geospatial Data Sets Together"
   ]
  },
  {
   "cell_type": "markdown",
   "metadata": {},
   "source": [
    "# Writing Data Out"
   ]
  }
 ],
 "metadata": {
  "anaconda-cloud": {},
  "kernelspec": {
   "display_name": "Python [conda root]",
   "language": "python",
   "name": "conda-root-py"
  },
  "language_info": {
   "codemirror_mode": {
    "name": "ipython",
    "version": 3
   },
   "file_extension": ".py",
   "mimetype": "text/x-python",
   "name": "python",
   "nbconvert_exporter": "python",
   "pygments_lexer": "ipython3",
   "version": "3.5.2"
  }
 },
 "nbformat": 4,
 "nbformat_minor": 0
}
